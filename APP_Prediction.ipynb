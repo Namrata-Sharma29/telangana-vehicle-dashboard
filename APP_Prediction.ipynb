{
 "cells": [
  {
   "cell_type": "code",
   "execution_count": 7,
   "id": "73b0892c-f455-4706-97ea-5656fbed1c3b",
   "metadata": {
    "scrolled": true
   },
   "outputs": [
    {
     "name": "stdout",
     "output_type": "stream",
     "text": [
      "Requirement already satisfied: gradio in c:\\users\\conne\\anaconda3\\lib\\site-packages (5.41.1)\n",
      "Requirement already satisfied: aiofiles<25.0,>=22.0 in c:\\users\\conne\\anaconda3\\lib\\site-packages (from gradio) (24.1.0)\n",
      "Requirement already satisfied: anyio<5.0,>=3.0 in c:\\users\\conne\\anaconda3\\lib\\site-packages (from gradio) (4.2.0)\n",
      "Requirement already satisfied: brotli>=1.1.0 in c:\\users\\conne\\anaconda3\\lib\\site-packages (from gradio) (1.1.0)\n",
      "Requirement already satisfied: fastapi<1.0,>=0.115.2 in c:\\users\\conne\\anaconda3\\lib\\site-packages (from gradio) (0.116.1)\n",
      "Requirement already satisfied: ffmpy in c:\\users\\conne\\anaconda3\\lib\\site-packages (from gradio) (0.6.1)\n",
      "Requirement already satisfied: gradio-client==1.11.0 in c:\\users\\conne\\anaconda3\\lib\\site-packages (from gradio) (1.11.0)\n",
      "Requirement already satisfied: groovy~=0.1 in c:\\users\\conne\\anaconda3\\lib\\site-packages (from gradio) (0.1.2)\n",
      "Requirement already satisfied: httpx<1.0,>=0.24.1 in c:\\users\\conne\\anaconda3\\lib\\site-packages (from gradio) (0.27.0)\n",
      "Requirement already satisfied: huggingface-hub<1.0,>=0.33.5 in c:\\users\\conne\\anaconda3\\lib\\site-packages (from gradio) (0.34.3)\n",
      "Requirement already satisfied: jinja2<4.0 in c:\\users\\conne\\anaconda3\\lib\\site-packages (from gradio) (3.1.4)\n",
      "Requirement already satisfied: markupsafe<4.0,>=2.0 in c:\\users\\conne\\anaconda3\\lib\\site-packages (from gradio) (2.1.3)\n",
      "Requirement already satisfied: numpy<3.0,>=1.0 in c:\\users\\conne\\anaconda3\\lib\\site-packages (from gradio) (1.26.4)\n",
      "Requirement already satisfied: orjson~=3.0 in c:\\users\\conne\\anaconda3\\lib\\site-packages (from gradio) (3.11.1)\n",
      "Requirement already satisfied: packaging in c:\\users\\conne\\anaconda3\\lib\\site-packages (from gradio) (24.1)\n",
      "Requirement already satisfied: pandas<3.0,>=1.0 in c:\\users\\conne\\anaconda3\\lib\\site-packages (from gradio) (2.2.2)\n",
      "Requirement already satisfied: pillow<12.0,>=8.0 in c:\\users\\conne\\anaconda3\\lib\\site-packages (from gradio) (10.4.0)\n",
      "Requirement already satisfied: pydantic<2.12,>=2.0 in c:\\users\\conne\\anaconda3\\lib\\site-packages (from gradio) (2.8.2)\n",
      "Requirement already satisfied: pydub in c:\\users\\conne\\anaconda3\\lib\\site-packages (from gradio) (0.25.1)\n",
      "Requirement already satisfied: python-multipart>=0.0.18 in c:\\users\\conne\\anaconda3\\lib\\site-packages (from gradio) (0.0.20)\n",
      "Requirement already satisfied: pyyaml<7.0,>=5.0 in c:\\users\\conne\\anaconda3\\lib\\site-packages (from gradio) (6.0.1)\n",
      "Requirement already satisfied: ruff>=0.9.3 in c:\\users\\conne\\anaconda3\\lib\\site-packages (from gradio) (0.12.8)\n",
      "Requirement already satisfied: safehttpx<0.2.0,>=0.1.6 in c:\\users\\conne\\anaconda3\\lib\\site-packages (from gradio) (0.1.6)\n",
      "Requirement already satisfied: semantic-version~=2.0 in c:\\users\\conne\\anaconda3\\lib\\site-packages (from gradio) (2.10.0)\n",
      "Requirement already satisfied: starlette<1.0,>=0.40.0 in c:\\users\\conne\\anaconda3\\lib\\site-packages (from gradio) (0.47.2)\n",
      "Requirement already satisfied: tomlkit<0.14.0,>=0.12.0 in c:\\users\\conne\\anaconda3\\lib\\site-packages (from gradio) (0.13.3)\n",
      "Requirement already satisfied: typer<1.0,>=0.12 in c:\\users\\conne\\anaconda3\\lib\\site-packages (from gradio) (0.16.0)\n",
      "Requirement already satisfied: typing-extensions~=4.0 in c:\\users\\conne\\anaconda3\\lib\\site-packages (from gradio) (4.11.0)\n",
      "Requirement already satisfied: uvicorn>=0.14.0 in c:\\users\\conne\\anaconda3\\lib\\site-packages (from gradio) (0.35.0)\n",
      "Requirement already satisfied: fsspec in c:\\users\\conne\\anaconda3\\lib\\site-packages (from gradio-client==1.11.0->gradio) (2024.6.1)\n",
      "Requirement already satisfied: websockets<16.0,>=10.0 in c:\\users\\conne\\anaconda3\\lib\\site-packages (from gradio-client==1.11.0->gradio) (15.0.1)\n",
      "Requirement already satisfied: idna>=2.8 in c:\\users\\conne\\anaconda3\\lib\\site-packages (from anyio<5.0,>=3.0->gradio) (3.7)\n",
      "Requirement already satisfied: sniffio>=1.1 in c:\\users\\conne\\anaconda3\\lib\\site-packages (from anyio<5.0,>=3.0->gradio) (1.3.0)\n",
      "Requirement already satisfied: certifi in c:\\users\\conne\\anaconda3\\lib\\site-packages (from httpx<1.0,>=0.24.1->gradio) (2025.1.31)\n",
      "Requirement already satisfied: httpcore==1.* in c:\\users\\conne\\anaconda3\\lib\\site-packages (from httpx<1.0,>=0.24.1->gradio) (1.0.2)\n",
      "Requirement already satisfied: h11<0.15,>=0.13 in c:\\users\\conne\\anaconda3\\lib\\site-packages (from httpcore==1.*->httpx<1.0,>=0.24.1->gradio) (0.14.0)\n",
      "Requirement already satisfied: filelock in c:\\users\\conne\\anaconda3\\lib\\site-packages (from huggingface-hub<1.0,>=0.33.5->gradio) (3.13.1)\n",
      "Requirement already satisfied: requests in c:\\users\\conne\\anaconda3\\lib\\site-packages (from huggingface-hub<1.0,>=0.33.5->gradio) (2.32.3)\n",
      "Requirement already satisfied: tqdm>=4.42.1 in c:\\users\\conne\\anaconda3\\lib\\site-packages (from huggingface-hub<1.0,>=0.33.5->gradio) (4.66.5)\n",
      "Requirement already satisfied: python-dateutil>=2.8.2 in c:\\users\\conne\\anaconda3\\lib\\site-packages (from pandas<3.0,>=1.0->gradio) (2.9.0.post0)\n",
      "Requirement already satisfied: pytz>=2020.1 in c:\\users\\conne\\anaconda3\\lib\\site-packages (from pandas<3.0,>=1.0->gradio) (2024.1)\n",
      "Requirement already satisfied: tzdata>=2022.7 in c:\\users\\conne\\anaconda3\\lib\\site-packages (from pandas<3.0,>=1.0->gradio) (2023.3)\n",
      "Requirement already satisfied: annotated-types>=0.4.0 in c:\\users\\conne\\anaconda3\\lib\\site-packages (from pydantic<2.12,>=2.0->gradio) (0.6.0)\n",
      "Requirement already satisfied: pydantic-core==2.20.1 in c:\\users\\conne\\anaconda3\\lib\\site-packages (from pydantic<2.12,>=2.0->gradio) (2.20.1)\n",
      "Requirement already satisfied: click>=8.0.0 in c:\\users\\conne\\anaconda3\\lib\\site-packages (from typer<1.0,>=0.12->gradio) (8.1.7)\n",
      "Requirement already satisfied: shellingham>=1.3.0 in c:\\users\\conne\\anaconda3\\lib\\site-packages (from typer<1.0,>=0.12->gradio) (1.5.0)\n",
      "Requirement already satisfied: rich>=10.11.0 in c:\\users\\conne\\anaconda3\\lib\\site-packages (from typer<1.0,>=0.12->gradio) (13.7.1)\n",
      "Requirement already satisfied: colorama in c:\\users\\conne\\anaconda3\\lib\\site-packages (from click>=8.0.0->typer<1.0,>=0.12->gradio) (0.4.6)\n",
      "Requirement already satisfied: six>=1.5 in c:\\users\\conne\\anaconda3\\lib\\site-packages (from python-dateutil>=2.8.2->pandas<3.0,>=1.0->gradio) (1.16.0)\n",
      "Requirement already satisfied: markdown-it-py>=2.2.0 in c:\\users\\conne\\anaconda3\\lib\\site-packages (from rich>=10.11.0->typer<1.0,>=0.12->gradio) (2.2.0)\n",
      "Requirement already satisfied: pygments<3.0.0,>=2.13.0 in c:\\users\\conne\\anaconda3\\lib\\site-packages (from rich>=10.11.0->typer<1.0,>=0.12->gradio) (2.15.1)\n",
      "Requirement already satisfied: charset-normalizer<4,>=2 in c:\\users\\conne\\anaconda3\\lib\\site-packages (from requests->huggingface-hub<1.0,>=0.33.5->gradio) (3.3.2)\n",
      "Requirement already satisfied: urllib3<3,>=1.21.1 in c:\\users\\conne\\anaconda3\\lib\\site-packages (from requests->huggingface-hub<1.0,>=0.33.5->gradio) (2.2.3)\n",
      "Requirement already satisfied: mdurl~=0.1 in c:\\users\\conne\\anaconda3\\lib\\site-packages (from markdown-it-py>=2.2.0->rich>=10.11.0->typer<1.0,>=0.12->gradio) (0.1.0)\n",
      "Note: you may need to restart the kernel to use updated packages.\n"
     ]
    }
   ],
   "source": [
    "pip install --upgrade gradio"
   ]
  },
  {
   "cell_type": "code",
   "execution_count": 1,
   "id": "3ec83fa1-f43d-47d2-bdbf-282ea65f4065",
   "metadata": {},
   "outputs": [],
   "source": [
    "import pandas as pd\n",
    "from sklearn.model_selection import train_test_split\n",
    "from sklearn.preprocessing import LabelEncoder\n",
    "from sklearn.ensemble import RandomForestRegressor\n",
    "import gradio as gr\n",
    "import pickle\n",
    "\n",
    "# Load dataset\n",
    "df = pd.read_csv(\"Downloads/CLOUDTHAT_FOLDER/Vehicle_Sales_2024_CSV.csv\")\n",
    "\n",
    "# Extract month\n",
    "df['fromdate'] = pd.to_datetime(df['from_date'], errors='coerce')\n",
    "df['month'] = df['fromdate'].dt.month\n",
    "\n",
    "# Group by required columns\n",
    "grouped = (\n",
    "    df.groupby(['vehicle_class', 'model_desc', 'office_cd', 'month'])\n",
    "      .size()\n",
    "      .reset_index(name='registration_count')\n",
    ")\n",
    "\n",
    "# Encode categorical columns\n",
    "encoders = {}\n",
    "for col in ['vehicle_class', 'model_desc', 'office_cd']:\n",
    "    le = LabelEncoder()\n",
    "    grouped[col] = le.fit_transform(grouped[col])\n",
    "    encoders[col] = le\n",
    "\n",
    "# Define features and target\n",
    "X = grouped[['vehicle_class', 'model_desc', 'office_cd', 'month']]\n",
    "y = grouped['registration_count']\n",
    "\n",
    "# Train/test split\n",
    "X_train, X_test, y_train, y_test = train_test_split(X, y, test_size=0.2, random_state=42)\n",
    "\n",
    "# Train model\n",
    "model = RandomForestRegressor(n_estimators=100, random_state=42)\n",
    "model.fit(X_train, y_train)\n",
    "\n",
    "# Save model\n",
    "with open(\"registration_model.pkl\", \"wb\") as f:\n",
    "    pickle.dump(model, f)\n",
    "\n",
    "# Save encoders\n",
    "with open(\"label_encoders.pkl\", \"wb\") as f:\n",
    "    pickle.dump(encoders, f)"
   ]
  },
  {
   "cell_type": "code",
   "execution_count": 3,
   "id": "96a5005f-e9fe-4127-97a1-859f7ef57f31",
   "metadata": {},
   "outputs": [
    {
     "name": "stdout",
     "output_type": "stream",
     "text": [
      "* Running on local URL:  http://127.0.0.1:7860\n",
      "* To create a public link, set `share=True` in `launch()`.\n"
     ]
    },
    {
     "data": {
      "text/html": [
       "<div><iframe src=\"http://127.0.0.1:7860/\" width=\"100%\" height=\"500\" allow=\"autoplay; camera; microphone; clipboard-read; clipboard-write;\" frameborder=\"0\" allowfullscreen></iframe></div>"
      ],
      "text/plain": [
       "<IPython.core.display.HTML object>"
      ]
     },
     "metadata": {},
     "output_type": "display_data"
    },
    {
     "data": {
      "text/plain": []
     },
     "execution_count": 3,
     "metadata": {},
     "output_type": "execute_result"
    }
   ],
   "source": [
    "import gradio as gr\n",
    "import pandas as pd\n",
    "import pickle\n",
    "\n",
    "# Load model and encoders\n",
    "with open(\"registration_model.pkl\", \"rb\") as f:\n",
    "    model = pickle.load(f)\n",
    "\n",
    "with open(\"label_encoders.pkl\", \"rb\") as f:\n",
    "    encoders = pickle.load(f)\n",
    "\n",
    "# Reverse lookup for dropdowns\n",
    "vehicle_class_labels = encoders['vehicle_class'].classes_.tolist()\n",
    "model_desc_labels = encoders['model_desc'].classes_.tolist()\n",
    "office_cd_labels = encoders['office_cd'].classes_.tolist()\n",
    "months = [str(i) for i in range(1, 13)]\n",
    "\n",
    "# Prediction function\n",
    "def predict(vehicle_class, model_desc, office_cd, month):\n",
    "    try:\n",
    "        input_df = pd.DataFrame([{\n",
    "            'vehicle_class': encoders['vehicle_class'].transform([vehicle_class])[0],\n",
    "            'model_desc': encoders['model_desc'].transform([model_desc])[0],\n",
    "            'office_cd': encoders['office_cd'].transform([office_cd])[0],\n",
    "            'month': int(month)\n",
    "        }])\n",
    "        prediction = model.predict(input_df)[0]\n",
    "        return f\"📈 Predicted Registrations: {int(prediction)}\"\n",
    "    except Exception as e:\n",
    "        return f\"Error: {str(e)}\"\n",
    "\n",
    "# Gradio UI\n",
    "iface = gr.Interface(\n",
    "    fn=predict,\n",
    "    inputs=[\n",
    "        gr.Dropdown(vehicle_class_labels, label=\"Vehicle Class\"),\n",
    "        gr.Dropdown(model_desc_labels, label=\"Model Description\"),\n",
    "        gr.Dropdown(office_cd_labels, label=\"Office Code\"),\n",
    "        gr.Dropdown(months, label=\"Month\")\n",
    "    ],\n",
    "    outputs=gr.Textbox(label=\"Predicted Registration Count\"),\n",
    "    title=\"🚗 Vehicle Registration Predictor\",\n",
    "    description=\"\"\"\n",
    "Predicts the expected number of vehicle registrations based on:\n",
    "- Vehicle class\n",
    "- Model description\n",
    "- Office code\n",
    "- Month of registration\n",
    "\n",
    "Model: Trained using RandomForestRegressor on grouped historical data.\n",
    "\"\"\"\n",
    ")\n",
    "\n",
    "iface.launch()"
   ]
  },
  {
   "cell_type": "code",
   "execution_count": null,
   "id": "7100a807-b7fd-4cb7-b722-14d5dc305e61",
   "metadata": {},
   "outputs": [],
   "source": []
  },
  {
   "cell_type": "code",
   "execution_count": 5,
   "id": "7cd247fd-329a-4ff6-b478-852b05a33784",
   "metadata": {},
   "outputs": [
    {
     "name": "stdout",
     "output_type": "stream",
     "text": [
      "* Running on local URL:  http://127.0.0.1:7861\n",
      "* To create a public link, set `share=True` in `launch()`.\n"
     ]
    },
    {
     "data": {
      "text/html": [
       "<div><iframe src=\"http://127.0.0.1:7861/\" width=\"100%\" height=\"500\" allow=\"autoplay; camera; microphone; clipboard-read; clipboard-write;\" frameborder=\"0\" allowfullscreen></iframe></div>"
      ],
      "text/plain": [
       "<IPython.core.display.HTML object>"
      ]
     },
     "metadata": {},
     "output_type": "display_data"
    },
    {
     "data": {
      "text/plain": []
     },
     "execution_count": 5,
     "metadata": {},
     "output_type": "execute_result"
    }
   ],
   "source": [
    "import gradio as gr\n",
    "import pandas as pd\n",
    "import pickle\n",
    "\n",
    "# Load model and encoders\n",
    "with open(\"registration_model.pkl\", \"rb\") as f:\n",
    "    model = pickle.load(f)\n",
    "\n",
    "with open(\"label_encoders.pkl\", \"rb\") as f:\n",
    "    encoders = pickle.load(f)\n",
    "\n",
    "# Prepare dropdown choices with \"All\"\n",
    "vehicle_class_choices = [\"All\"] + list(encoders['vehicle_class'].classes_)\n",
    "model_desc_choices = [\"All\"] + list(encoders['model_desc'].classes_)\n",
    "office_cd_choices = [\"All\"] + list(encoders['office_cd'].classes_)\n",
    "month_choices = [\"All\"] + list(range(1, 13))\n",
    "\n",
    "def predict(vehicle_class, model_desc, office_cd, month):\n",
    "    results = []\n",
    "\n",
    "    # If 'All' is selected for a feature, use all possible encoded values\n",
    "    vehicle_class_list = encoders['vehicle_class'].classes_ if vehicle_class == \"All\" else [vehicle_class]\n",
    "    model_desc_list = encoders['model_desc'].classes_ if model_desc == \"All\" else [model_desc]\n",
    "    office_cd_list = encoders['office_cd'].classes_ if office_cd == \"All\" else [office_cd]\n",
    "    month_list = list(range(1, 13)) if month == \"All\" else [month]\n",
    "\n",
    "    # Create all combinations\n",
    "    for vc in vehicle_class_list:\n",
    "        for md in model_desc_list:\n",
    "            for oc in office_cd_list:\n",
    "                for m in month_list:\n",
    "                    # Encode to numeric values\n",
    "                    row = {\n",
    "                        'vehicle_class': encoders['vehicle_class'].transform([vc])[0],\n",
    "                        'model_desc': encoders['model_desc'].transform([md])[0],\n",
    "                        'office_cd': encoders['office_cd'].transform([oc])[0],\n",
    "                        'month': m\n",
    "                    }\n",
    "                    pred = model.predict(pd.DataFrame([row]))[0]\n",
    "                    results.append({\n",
    "                        'vehicle_class': vc,\n",
    "                        'model_desc': md,\n",
    "                        'office_cd': oc,\n",
    "                        'month': m,\n",
    "                        'prediction': round(pred, 2)\n",
    "                    })\n",
    "\n",
    "    # Return as DataFrame for nice table view\n",
    "    return pd.DataFrame(results)\n",
    "\n",
    "# Build the Gradio interface\n",
    "with gr.Blocks() as demo:\n",
    "    gr.Markdown(\"## 🚗 Vehicle Registration Prediction\")\n",
    "\n",
    "    with gr.Row():\n",
    "        vc_dd = gr.Dropdown(vehicle_class_choices, label=\"Vehicle Class\", value=vehicle_class_choices[0])\n",
    "        md_dd = gr.Dropdown(model_desc_choices, label=\"Model Description\", value=model_desc_choices[0])\n",
    "        oc_dd = gr.Dropdown(office_cd_choices, label=\"Office Code\", value=office_cd_choices[0])\n",
    "        m_dd = gr.Dropdown(month_choices, label=\"Month\", value=month_choices[0])\n",
    "\n",
    "    btn = gr.Button(\"Predict\")\n",
    "    output = gr.Dataframe(label=\"Predictions Table\")\n",
    "\n",
    "    btn.click(\n",
    "        fn=predict,\n",
    "        inputs=[vc_dd, md_dd, oc_dd, m_dd],\n",
    "        outputs=[output]\n",
    "    )\n",
    "\n",
    "# Launch app\n",
    "demo.launch()"
   ]
  },
  {
   "cell_type": "code",
   "execution_count": null,
   "id": "2de489a8-b2f4-4ea7-bac9-8901d413d503",
   "metadata": {},
   "outputs": [],
   "source": []
  },
  {
   "cell_type": "code",
   "execution_count": 31,
   "id": "ffea75ee-f887-47f8-8902-62a5e844c1c1",
   "metadata": {},
   "outputs": [
    {
     "name": "stdout",
     "output_type": "stream",
     "text": [
      "Rerunning server... use `close()` to stop if you need to change `launch()` parameters.\n",
      "----\n",
      "* Running on public URL: https://c02693514107d40431.gradio.live\n",
      "\n",
      "This share link expires in 1 week. For free permanent hosting and GPU upgrades, run `gradio deploy` from the terminal in the working directory to deploy to Hugging Face Spaces (https://huggingface.co/spaces)\n"
     ]
    },
    {
     "data": {
      "text/html": [
       "<div><iframe src=\"https://c02693514107d40431.gradio.live\" width=\"100%\" height=\"500\" allow=\"autoplay; camera; microphone; clipboard-read; clipboard-write;\" frameborder=\"0\" allowfullscreen></iframe></div>"
      ],
      "text/plain": [
       "<IPython.core.display.HTML object>"
      ]
     },
     "metadata": {},
     "output_type": "display_data"
    },
    {
     "data": {
      "text/plain": []
     },
     "execution_count": 31,
     "metadata": {},
     "output_type": "execute_result"
    }
   ],
   "source": [
    "demo.launch(share=True)"
   ]
  }
 ],
 "metadata": {
  "kernelspec": {
   "display_name": "Python [conda env:base] *",
   "language": "python",
   "name": "conda-base-py"
  },
  "language_info": {
   "codemirror_mode": {
    "name": "ipython",
    "version": 3
   },
   "file_extension": ".py",
   "mimetype": "text/x-python",
   "name": "python",
   "nbconvert_exporter": "python",
   "pygments_lexer": "ipython3",
   "version": "3.12.7"
  }
 },
 "nbformat": 4,
 "nbformat_minor": 5
}
